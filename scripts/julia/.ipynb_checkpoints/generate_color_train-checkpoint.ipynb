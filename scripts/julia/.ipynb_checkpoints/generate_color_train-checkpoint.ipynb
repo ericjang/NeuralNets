{
 "cells": [
  {
   "cell_type": "markdown",
   "metadata": {},
   "source": [
    "this script is used to generate the 8 different colors for the analysis folder, with 8 colors (0,1 combinations for each of the RGB channels)."
   ]
  },
  {
   "cell_type": "code",
   "execution_count": 19,
   "metadata": {
    "collapsed": false
   },
   "outputs": [],
   "source": [
    "using Images\n",
    "using Color"
   ]
  },
  {
   "cell_type": "code",
   "execution_count": 20,
   "metadata": {
    "collapsed": false
   },
   "outputs": [
    {
     "data": {
      "text/plain": [
       "\"/home/eric/NeuralNets/images/colors/color\""
      ]
     },
     "execution_count": 20,
     "metadata": {},
     "output_type": "execute_result"
    }
   ],
   "source": [
    "w = 10;\n",
    "fprefix = \"/home/eric/NeuralNets/images/colors/color\""
   ]
  },
  {
   "cell_type": "code",
   "execution_count": 29,
   "metadata": {
    "collapsed": false
   },
   "outputs": [],
   "source": [
    "data = zeros(w,w,3)\n",
    "i=0\n",
    "for r in [0,1]\n",
    "    for g in [0,1]\n",
    "        for b in [0,1]\n",
    "            data[:,:,1] = ones(w,w)*r\n",
    "            data[:,:,2] = ones(w,w)*g\n",
    "            data[:,:,3] = ones(w,w)*b\n",
    "            # write it out\n",
    "            img = convert(Image{RGB}, data)\n",
    "            imwrite(img,string(fprefix,\"_$i.jpg\"))\n",
    "            i+=1\n",
    "        end\n",
    "    end\n",
    "end"
   ]
  },
  {
   "cell_type": "code",
   "execution_count": 18,
   "metadata": {
    "collapsed": false
   },
   "outputs": [
    {
     "data": {
      "image/png": "[encoded data removed]",
      "text/plain": [
       "RGB Image with:\n",
       "  data: 100x100 Array{RGB{Float64},2}\n",
       "  properties:\n",
       "    timedim: 0\n",
       "    spatialorder:  y x\n",
       "    pixelspacing:  1.0 1.0"
      ]
     },
     "execution_count": 18,
     "metadata": {},
     "output_type": "execute_result"
    }
   ],
   "source": [
    "# heres an example of converting raw data to img\n",
    "img"
   ]
  },
  {
   "cell_type": "code",
   "execution_count": 27,
   "metadata": {
    "collapsed": false
   },
   "outputs": [
    {
     "data": {
      "text/plain": [
       "1x3 Array{ASCIIString,2}:\n",
       " \"/home/eric/NeuralNets/images/colors/color\"  \"_\"  \"1\""
      ]
     },
     "execution_count": 27,
     "metadata": {},
     "output_type": "execute_result"
    }
   ],
   "source": [
    "[fprefix \"_\" \"1\"]"
   ]
  },
  {
   "cell_type": "code",
   "execution_count": null,
   "metadata": {
    "collapsed": true
   },
   "outputs": [],
   "source": []
  }
 ],
 "metadata": {
  "kernelspec": {
   "display_name": "Julia 0.3.7",
   "language": "julia",
   "name": "julia 0.3"
  },
  "language_info": {
   "name": "julia",
   "version": "0.3.7"
  }
 },
 "nbformat": 4,
 "nbformat_minor": 0
}
