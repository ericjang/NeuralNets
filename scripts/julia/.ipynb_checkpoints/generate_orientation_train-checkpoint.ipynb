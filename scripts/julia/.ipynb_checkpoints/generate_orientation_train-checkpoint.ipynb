{
 "cells": [
  {
   "cell_type": "code",
   "execution_count": 6,
   "metadata": {
    "collapsed": true
   },
   "outputs": [],
   "source": [
    "using Images\n",
    "using Color"
   ]
  },
  {
   "cell_type": "code",
   "execution_count": 122,
   "metadata": {
    "collapsed": false
   },
   "outputs": [
    {
     "data": {
      "text/plain": [
       "\"/home/eric/NeuralNets/images/orient10/\""
      ]
     },
     "execution_count": 122,
     "metadata": {},
     "output_type": "execute_result"
    }
   ],
   "source": [
    "w = 10;\n",
    "dir = \"/home/eric/NeuralNets/images/orient10/\""
   ]
  },
  {
   "cell_type": "code",
   "execution_count": 123,
   "metadata": {
    "collapsed": true
   },
   "outputs": [],
   "source": [
    "thetas = 0:(π/180):2π;"
   ]
  },
  {
   "cell_type": "code",
   "execution_count": 124,
   "metadata": {
    "collapsed": false
   },
   "outputs": [
    {
     "data": {
      "image/png": "[encoded data removed]",
      "text/plain": [
       "RGB Image with:\n",
       "  data: 20x20 Array{RGB{Float64},2}\n",
       "  properties:\n",
       "    timedim: 0\n",
       "    spatialorder:  y x\n",
       "    pixelspacing:  1.0 1.0"
      ]
     },
     "execution_count": 124,
     "metadata": {},
     "output_type": "execute_result"
    }
   ],
   "source": [
    "x = [1:2w]'\n",
    "freq=w*4/3\n",
    "srcData = repmat(min(.5*(sin(x/2w*freq)+1.2),1),2w,1)\n",
    "srcImg = convert(Image{RGB},srcData)"
   ]
  },
  {
   "cell_type": "code",
   "execution_count": 125,
   "metadata": {
    "collapsed": false
   },
   "outputs": [],
   "source": [
    "# generate oriented bars for each\n",
    "\n",
    "for d=0:180\n",
    "    θ=π*d/180\n",
    "    R = [cos(θ) -sin(θ); sin(θ) cos(θ)]\n",
    "    data = zeros(w,w)\n",
    "    R = [cos(θ) -sin(θ); sin(θ) cos(θ)]\n",
    "    # move w*w square at origin, rotate each x,y to obtain new normalized coordinate\n",
    "    x = repmat(1:w,1,w)\n",
    "    y = repmat([1:w]',w,1)\n",
    "    xy = [x[:]' ; y[:]']\n",
    "    pxy = R*(xy-w/2) # move to origin, then rotate\n",
    "    xy_src = int(round(pxy+w)) # translate to center of srcImg, determine overlapping indices\n",
    "    for i=1:size(xy,2)\n",
    "        c_t,r_t = xy[:,i]\n",
    "        c_s,r_s = xy_src[:,i]\n",
    "        data[r_t,c_t]=srcData[r_s,c_s]\n",
    "    end\n",
    "    img = convert(Image{RGB},data)\n",
    "    imwrite(img,string(dir,\"$d.jpg\"))\n",
    "end"
   ]
  },
  {
   "cell_type": "code",
   "execution_count": 120,
   "metadata": {
    "collapsed": false
   },
   "outputs": [],
   "source": [
    "# data = zeros(w,w,3)\n",
    "# data[:,:,:] = ones(w,w)\n",
    "# img = convert(Image{RGB}, data)\n"
   ]
  }
 ],
 "metadata": {
  "kernelspec": {
   "display_name": "Julia 0.3.7",
   "language": "julia",
   "name": "julia 0.3"
  },
  "language_info": {
   "name": "julia",
   "version": "0.3.7"
  }
 },
 "nbformat": 4,
 "nbformat_minor": 0
}
