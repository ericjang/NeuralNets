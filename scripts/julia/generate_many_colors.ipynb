{
 "cells": [
  {
   "cell_type": "code",
   "execution_count": 1,
   "metadata": {
    "collapsed": true
   },
   "outputs": [],
   "source": [
    "# samples randomly from LSM colorspace, then writes out images\n",
    "# the idea is to test activations for whole colorspace, then run t-SNE on 3-dimensional data, for example."
   ]
  },
  {
   "cell_type": "code",
   "execution_count": 2,
   "metadata": {
    "collapsed": true
   },
   "outputs": [],
   "source": [
    "using Images\n",
    "using Color"
   ]
  },
  {
   "cell_type": "code",
   "execution_count": 3,
   "metadata": {
    "collapsed": false
   },
   "outputs": [
    {
     "data": {
      "text/plain": [
       "\"/home/eric/NeuralNets/images/test/colors_all_30/\""
      ]
     },
     "execution_count": 3,
     "metadata": {},
     "output_type": "execute_result"
    }
   ],
   "source": [
    "w = 30;\n",
    "dir = \"/home/eric/NeuralNets/images/test/colors_all_30/\""
   ]
  },
  {
   "cell_type": "code",
   "execution_count": 12,
   "metadata": {
    "collapsed": false
   },
   "outputs": [],
   "source": [
    "N=300;\n",
    "data = zeros(w,w,3);\n",
    "for i=1:N\n",
    "    for c=1:3\n",
    "        data[:,:,c]=ones(w,w)*rand() \n",
    "    end\n",
    "    img = convert(Image{LMS},data)\n",
    "    rgb_image = convert(Image{RGB},img)\n",
    "    imwrite(rgb_image,string(dir,\"$i.jpg\"))\n",
    "end"
   ]
  },
  {
   "cell_type": "code",
   "execution_count": null,
   "metadata": {
    "collapsed": false
   },
   "outputs": [],
   "source": []
  },
  {
   "cell_type": "code",
   "execution_count": null,
   "metadata": {
    "collapsed": true
   },
   "outputs": [],
   "source": []
  }
 ],
 "metadata": {
  "kernelspec": {
   "display_name": "Julia 0.3.7",
   "language": "julia",
   "name": "julia 0.3"
  },
  "language_info": {
   "name": "julia",
   "version": "0.3.7"
  }
 },
 "nbformat": 4,
 "nbformat_minor": 0
}
