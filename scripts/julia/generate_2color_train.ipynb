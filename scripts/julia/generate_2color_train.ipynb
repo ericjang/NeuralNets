{
 "cells": [
  {
   "cell_type": "code",
   "execution_count": 16,
   "metadata": {
    "collapsed": true
   },
   "outputs": [],
   "source": [
    "using Images\n",
    "using Color"
   ]
  },
  {
   "cell_type": "code",
   "execution_count": 17,
   "metadata": {
    "collapsed": false
   },
   "outputs": [
    {
     "data": {
      "text/plain": [
       "\"/home/eric/NeuralNets/images/test/twocolor30/\""
      ]
     },
     "execution_count": 17,
     "metadata": {},
     "output_type": "execute_result"
    }
   ],
   "source": [
    "w = 30;\n",
    "dir = \"/home/eric/NeuralNets/images/test/twocolor30/\""
   ]
  },
  {
   "cell_type": "code",
   "execution_count": 18,
   "metadata": {
    "collapsed": false
   },
   "outputs": [
    {
     "data": {
      "text/plain": [
       "8-element Array{Any,1}:\n",
       " [0,0,0]\n",
       " [0,0,1]\n",
       " [0,1,0]\n",
       " [0,1,1]\n",
       " [1,0,0]\n",
       " [1,0,1]\n",
       " [1,1,0]\n",
       " [1,1,1]"
      ]
     },
     "execution_count": 18,
     "metadata": {},
     "output_type": "execute_result"
    }
   ],
   "source": [
    "C = {}\n",
    "for r in [0,1]\n",
    "    for g in [0,1]\n",
    "        for b in [0,1]\n",
    "            push!(C,[r,g,b])\n",
    "        end\n",
    "    end\n",
    "end\n",
    "C"
   ]
  },
  {
   "cell_type": "code",
   "execution_count": 19,
   "metadata": {
    "collapsed": false
   },
   "outputs": [
    {
     "name": "stdout",
     "output_type": "stream",
     "text": [
      "/home/eric/NeuralNets/images/test/twocolor30/1_1.jpg\n",
      "/home/eric/NeuralNets/images/test/twocolor30/1_2.jpg\n",
      "/home/eric/NeuralNets/images/test/twocolor30/1_3.jpg\n",
      "/home/eric/NeuralNets/images/test/twocolor30/1_4.jpg\n",
      "/home/eric/NeuralNets/images/test/twocolor30/1_5.jpg\n",
      "/home/eric/NeuralNets/images/test/twocolor30/1_6.jpg\n",
      "/home/eric/NeuralNets/images/test/twocolor30/1_7.jpg\n",
      "/home/eric/NeuralNets/images/test/twocolor30/1_8.jpg\n",
      "/home/eric/NeuralNets/images/test/twocolor30/2_1.jpg\n",
      "/home/eric/NeuralNets/images/test/twocolor30/2_2.jpg\n",
      "/home/eric/NeuralNets/images/test/twocolor30/2_3.jpg\n",
      "/home/eric/NeuralNets/images/test/twocolor30/2_4.jpg\n",
      "/home/eric/NeuralNets/images/test/twocolor30/2_5.jpg\n",
      "/home/eric/NeuralNets/images/test/twocolor30/2_6.jpg\n",
      "/home/eric/NeuralNets/images/test/twocolor30/2_7.jpg\n",
      "/home/eric/NeuralNets/images/test/twocolor30/2_8.jpg\n",
      "/home/eric/NeuralNets/images/test/twocolor30/3_1.jpg\n",
      "/home/eric/NeuralNets/images/test/twocolor30/3_2.jpg\n",
      "/home/eric/NeuralNets/images/test/twocolor30/3_3.jpg\n",
      "/home/eric/NeuralNets/images/test/twocolor30/3_4.jpg\n",
      "/home/eric/NeuralNets/images/test/twocolor30/3_5.jpg\n",
      "/home/eric/NeuralNets/images/test/twocolor30/3_6.jpg\n",
      "/home/eric/NeuralNets/images/test/twocolor30/3_7.jpg\n",
      "/home/eric/NeuralNets/images/test/twocolor30/3_8.jpg\n",
      "/home/eric/NeuralNets/images/test/twocolor30/4_1.jpg\n",
      "/home/eric/NeuralNets/images/test/twocolor30/4_2.jpg\n",
      "/home/eric/NeuralNets/images/test/twocolor30/4_3.jpg\n",
      "/home/eric/NeuralNets/images/test/twocolor30/4_4.jpg\n",
      "/home/eric/NeuralNets/images/test/twocolor30/4_5.jpg\n",
      "/home/eric/NeuralNets/images/test/twocolor30/4_6.jpg\n",
      "/home/eric/NeuralNets/images/test/twocolor30/4_7.jpg\n",
      "/home/eric/NeuralNets/images/test/twocolor30/4_8.jpg\n",
      "/home/eric/NeuralNets/images/test/twocolor30/5_1.jpg\n",
      "/home/eric/NeuralNets/images/test/twocolor30/5_2.jpg\n",
      "/home/eric/NeuralNets/images/test/twocolor30/5_3.jpg\n",
      "/home/eric/NeuralNets/images/test/twocolor30/5_4.jpg\n",
      "/home/eric/NeuralNets/images/test/twocolor30/5_5.jpg\n",
      "/home/eric/NeuralNets/images/test/twocolor30/5_6.jpg\n",
      "/home/eric/NeuralNets/images/test/twocolor30/5_7.jpg\n",
      "/home/eric/NeuralNets/images/test/twocolor30/5_8.jpg\n",
      "/home/eric/NeuralNets/images/test/twocolor30/6_1.jpg\n",
      "/home/eric/NeuralNets/images/test/twocolor30/6_2.jpg\n",
      "/home/eric/NeuralNets/images/test/twocolor30/6_3.jpg\n",
      "/home/eric/NeuralNets/images/test/twocolor30/6_4.jpg\n",
      "/home/eric/NeuralNets/images/test/twocolor30/6_5.jpg\n",
      "/home/eric/NeuralNets/images/test/twocolor30/6_6.jpg\n",
      "/home/eric/NeuralNets/images/test/twocolor30/6_7.jpg\n",
      "/home/eric/NeuralNets/images/test/twocolor30/6_8.jpg\n",
      "/home/eric/NeuralNets/images/test/twocolor30/7_1.jpg\n",
      "/home/eric/NeuralNets/images/test/twocolor30/7_2.jpg\n",
      "/home/eric/NeuralNets/images/test/twocolor30/7_3.jpg\n",
      "/home/eric/NeuralNets/images/test/twocolor30/7_4.jpg\n",
      "/home/eric/NeuralNets/images/test/twocolor30/7_5.jpg\n",
      "/home/eric/NeuralNets/images/test/twocolor30/7_6.jpg\n",
      "/home/eric/NeuralNets/images/test/twocolor30/7_7.jpg\n",
      "/home/eric/NeuralNets/images/test/twocolor30/7_8.jpg\n",
      "/home/eric/NeuralNets/images/test/twocolor30/8_1.jpg\n",
      "/home/eric/NeuralNets/images/test/twocolor30/8_2.jpg\n",
      "/home/eric/NeuralNets/images/test/twocolor30/8_3.jpg\n",
      "/home/eric/NeuralNets/images/test/twocolor30/8_4.jpg\n",
      "/home/eric/NeuralNets/images/test/twocolor30/8_5.jpg\n",
      "/home/eric/NeuralNets/images/test/twocolor30/8_6.jpg\n",
      "/home/eric/NeuralNets/images/test/twocolor30/8_7.jpg\n",
      "/home/eric/NeuralNets/images/test/twocolor30/8_8.jpg\n",
      "done!\n"
     ]
    }
   ],
   "source": [
    "# generate 8x8 possible pairs of left/right color\n",
    "# results should be symmetric - will be somewhat surprising if not.\n",
    "data = zeros(w,w,3)\n",
    "nC = length(C)\n",
    "for i=1:nC\n",
    "    for j=1:nC\n",
    "        leftc = C[i]\n",
    "        rightc = C[j]\n",
    "        # left\n",
    "        data[:,1:w/2,1] = leftc[1]\n",
    "        data[:,1:w/2,2] = leftc[2]\n",
    "        data[:,1:w/2,3] = leftc[3]\n",
    "        # right\n",
    "        data[:,w/2+1:w,1] = rightc[1]\n",
    "        data[:,w/2+1:w,2] = rightc[2]\n",
    "        data[:,w/2+1:w,3] = rightc[3]\n",
    "        img = convert(Image{RGB},data)\n",
    "        fname = string(dir,\"$i\\_$j.jpg\")\n",
    "        imwrite(img,fname)\n",
    "        println(fname)\n",
    "    end\n",
    "end\n",
    "println(\"done!\")"
   ]
  },
  {
   "cell_type": "code",
   "execution_count": null,
   "metadata": {
    "collapsed": false
   },
   "outputs": [],
   "source": []
  },
  {
   "cell_type": "code",
   "execution_count": 20,
   "metadata": {
    "collapsed": false
   },
   "outputs": [
    {
     "ename": "LoadError",
     "evalue": "r not defined\nwhile loading In[20], in expression starting on line 1",
     "output_type": "error",
     "traceback": [
      "r not defined\nwhile loading In[20], in expression starting on line 1",
      ""
     ]
    }
   ],
   "source": [
    "            data[:,:,1] = ones(w,w)*r\n",
    "            data[:,:,2] = ones(w,w)*g\n",
    "            data[:,:,3] = ones(w,w)*b\n",
    "            # write it out\n",
    "            img = convert(Image{RGB}, data)\n",
    "            \n",
    "            i+=1\n"
   ]
  }
 ],
 "metadata": {
  "kernelspec": {
   "display_name": "Julia 0.3.7",
   "language": "julia",
   "name": "julia 0.3"
  },
  "language_info": {
   "name": "julia",
   "version": "0.3.7"
  }
 },
 "nbformat": 4,
 "nbformat_minor": 0
}
