{
 "cells": [
  {
   "cell_type": "markdown",
   "metadata": {},
   "source": [
    "this script is used to generate the 8 different colors for the analysis folder, with 8 colors (0,1 combinations for each of the RGB channels)."
   ]
  },
  {
   "cell_type": "code",
   "execution_count": 1,
   "metadata": {
    "collapsed": false
   },
   "outputs": [],
   "source": [
    "using Images\n",
    "using Color"
   ]
  },
  {
   "cell_type": "code",
   "execution_count": 2,
   "metadata": {
    "collapsed": false
   },
   "outputs": [
    {
     "data": {
      "text/plain": [
       "\"/home/eric/NeuralNets/images/test/colors30/color\""
      ]
     },
     "execution_count": 2,
     "metadata": {},
     "output_type": "execute_result"
    }
   ],
   "source": [
    "w = 30;\n",
    "dir = \"/home/eric/NeuralNets/images/test/colors30/\"\n",
    "fprefix = string(dir,\"color\")"
   ]
  },
  {
   "cell_type": "code",
   "execution_count": 7,
   "metadata": {
    "collapsed": false
   },
   "outputs": [],
   "source": [
    "data = zeros(w,w,3)\n",
    "i=0\n",
    "for r in [0,1]\n",
    "    for g in [0,1]\n",
    "        for b in [0,1]\n",
    "            data[:,:,1] = ones(w,w)*r\n",
    "            data[:,:,2] = ones(w,w)*g\n",
    "            data[:,:,3] = ones(w,w)*b\n",
    "            # write it out\n",
    "            img = convert(Image{RGB}, data)\n",
    "            imwrite(img,string(fprefix,\"_$i.jpg\"))\n",
    "            i+=1\n",
    "        end\n",
    "    end\n",
    "end"
   ]
  },
  {
   "cell_type": "code",
   "execution_count": 4,
   "metadata": {
    "collapsed": false
   },
   "outputs": [
    {
     "ename": "LoadError",
     "evalue": "img not defined\nwhile loading In[4], in expression starting on line 2",
     "output_type": "error",
     "traceback": [
      "img not defined\nwhile loading In[4], in expression starting on line 2",
      ""
     ]
    }
   ],
   "source": [
    "# heres an example of converting raw data to img\n",
    "img"
   ]
  },
  {
   "cell_type": "code",
   "execution_count": 5,
   "metadata": {
    "collapsed": false
   },
   "outputs": [
    {
     "data": {
      "text/plain": [
       "1x3 Array{ASCIIString,2}:\n",
       " \"/home/eric/NeuralNets/images/test/colors30/color\"  \"_\"  \"1\""
      ]
     },
     "execution_count": 5,
     "metadata": {},
     "output_type": "execute_result"
    }
   ],
   "source": [
    "[fprefix \"_\" \"1\"]"
   ]
  },
  {
   "cell_type": "code",
   "execution_count": 6,
   "metadata": {
    "collapsed": true
   },
   "outputs": [],
   "source": [
    "# temporary:\n",
    "if false\n",
    "# 1% - generate a slightly impure (1%) blue color\n",
    "data = zeros(w,w,3)\n",
    "data[:,:,1] = ones(w,w)*.01\n",
    "data[:,:,2] = ones(w,w)*.01\n",
    "data[:,:,3] = ones(w,w)*1\n",
    "img = convert(Image{RGB}, data)\n",
    "imwrite(img,string(dir,\"imperfect_blue.jpg\"))\n",
    "end"
   ]
  },
  {
   "cell_type": "code",
   "execution_count": null,
   "metadata": {
    "collapsed": true
   },
   "outputs": [],
   "source": []
  }
 ],
 "metadata": {
  "kernelspec": {
   "display_name": "Julia 0.3.7",
   "language": "julia",
   "name": "julia 0.3"
  },
  "language_info": {
   "name": "julia",
   "version": "0.3.7"
  }
 },
 "nbformat": 4,
 "nbformat_minor": 0
}
